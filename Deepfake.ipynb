{
  "nbformat": 4,
  "nbformat_minor": 0,
  "metadata": {
    "colab": {
      "provenance": [],
      "gpuType": "T4"
    },
    "kernelspec": {
      "name": "python3",
      "display_name": "Python 3"
    },
    "language_info": {
      "name": "python"
    },
    "accelerator": "GPU"
  },
  "cells": [
    {
      "cell_type": "code",
      "execution_count": null,
      "metadata": {
        "id": "bb9_wyiPepMJ"
      },
      "outputs": [],
      "source": [
        "# for unzipping the zip file run this\n",
        "#!unzip '/content/drive/MyDrive/Deepfake/deepfake.zip' -d \"/content/drive/MyDrive/Deepfake/\""
      ]
    },
    {
      "cell_type": "code",
      "source": [
        "from google.colab import drive\n",
        "drive.mount('/content/drive')"
      ],
      "metadata": {
        "id": "9koGdiiahREB",
        "colab": {
          "base_uri": "https://localhost:8080/"
        },
        "outputId": "c9a20868-5094-4048-b681-ab4e4f030b9b"
      },
      "execution_count": null,
      "outputs": [
        {
          "output_type": "stream",
          "name": "stdout",
          "text": [
            "Drive already mounted at /content/drive; to attempt to forcibly remount, call drive.mount(\"/content/drive\", force_remount=True).\n"
          ]
        }
      ]
    },
    {
      "cell_type": "markdown",
      "source": [
        "## Building a deepfake image detection model which is capable of classifying image into two categories Ai-Genrated or Real image using TensorFlow\n",
        "\n",
        "# Problem Definition\n",
        "* The model is used for detection of deepfake or Ai-generated images that\n",
        "  are now widly used for spreading hate speech and fake news.\n",
        "\n",
        "# Data\n",
        "* We are using Kaggle data  uploaded on the drive and will also upload     zip file on github  <i>refer https://github.com/vrmaverick/DeepFake_Detector </i>\n",
        "\n",
        "# Evaluation\n",
        "\n",
        "* Prediction Probalities should be more than 90% which is this projects goal to acheive\n",
        "\n",
        "# Features\n",
        "\n",
        "* Few key information abot features as the project is based on image classification which are unstructured, Thus there is no such distinctive feature but the data is divide into 3 parts . Testing,Training and Validation. and the model will be a binary classifier"
      ],
      "metadata": {
        "id": "lnepvHhqa6jX"
      }
    },
    {
      "cell_type": "code",
      "source": [
        "# Importing all required tools\n",
        "import tensorflow as tf\n",
        "import tensorflow_hub as hub\n",
        "from sklearn.model_selection import train_test_split\n",
        "\n",
        "# For Data Structuring\n",
        "import numpy as np\n",
        "import pandas as pd\n",
        "import matplotlib.pyplot as plt\n",
        "\n",
        "# File Handling\n",
        "import os\n",
        "\n",
        "# For image processing\n",
        "from matplotlib.pyplot import imread"
      ],
      "metadata": {
        "id": "tG966xUdkBn3"
      },
      "execution_count": null,
      "outputs": []
    },
    {
      "cell_type": "code",
      "source": [
        "print(\"TF Version\",tf.__version__)\n",
        "print(\"TF hub version :\",hub.__version__)"
      ],
      "metadata": {
        "colab": {
          "base_uri": "https://localhost:8080/"
        },
        "id": "84pMHoeSlrYB",
        "outputId": "b9b9d51e-d60b-4b2f-fb58-352b6206fa32"
      },
      "execution_count": null,
      "outputs": [
        {
          "output_type": "stream",
          "name": "stdout",
          "text": [
            "TF Version 2.15.0\n",
            "TF hub version : 0.16.1\n"
          ]
        }
      ]
    },
    {
      "cell_type": "markdown",
      "source": [
        "# Checking for GPU accessibility\n",
        "Can change runtime type if needed on  google collab\n"
      ],
      "metadata": {
        "id": "y9Tx00p-2GJp"
      }
    },
    {
      "cell_type": "code",
      "source": [
        "print(\"GPU available\"if tf.config.list_physical_devices(\"GPU\")else \"Not Available\")"
      ],
      "metadata": {
        "id": "5xutfYvkvVgk",
        "colab": {
          "base_uri": "https://localhost:8080/"
        },
        "outputId": "d4eb6452-5389-4b9e-9321-1e954f4609ba"
      },
      "execution_count": null,
      "outputs": [
        {
          "output_type": "stream",
          "name": "stdout",
          "text": [
            "GPU available\n"
          ]
        }
      ]
    },
    {
      "cell_type": "markdown",
      "source": [
        "# Defining all the Functions that are used in the notebook further"
      ],
      "metadata": {
        "id": "jymdvGEeW4JN"
      }
    },
    {
      "cell_type": "code",
      "source": [
        "# Generating file paths for images\n",
        "def paths(p):\n",
        "  \"\"\"\n",
        "  Navigate through Drive paths to access files from a particular folder\n",
        "  takes one args\n",
        "\n",
        "  \"\"\"\n",
        "  # Specify the folder path within your Google Drive\n",
        "  folder_path = p\n",
        "  # List files in the folder\n",
        "  file_paths = []\n",
        "  file_name = []\n",
        "  for root, dirs, files in os.walk(folder_path):\n",
        "      for file in files:\n",
        "          file_paths.append(os.path.join(root, file))\n",
        "          file_name.append(file)\n",
        "          # print(f\"File Path: {os.path.join(root, file)}\")\n",
        "  return file_paths,file_name\n",
        "\n",
        "# Image Preprocessing\n",
        "def process_image(ImagePath):\n",
        "  \"\"\"\n",
        "  Take image file path and convert image into tensors\n",
        "\n",
        "  \"\"\"\n",
        "\n"
      ],
      "metadata": {
        "id": "lIzw424GW1Ps"
      },
      "execution_count": null,
      "outputs": []
    },
    {
      "cell_type": "markdown",
      "source": [
        "# Getting our data ready\n",
        "\n",
        "*Turning our images to tensors or numerical format*\n",
        "\n",
        "To check if image exists on that path run the cell below else one may skip it"
      ],
      "metadata": {
        "id": "iPJvhpTc5mDx"
      }
    },
    {
      "cell_type": "code",
      "source": [
        "# !ls '/content/drive/MyDrive/Deepfake/Ai vs Real image Detection Dataset/train/FAKE/1069 (10).jpg'"
      ],
      "metadata": {
        "id": "TwPYZxN-Awi9"
      },
      "execution_count": null,
      "outputs": []
    },
    {
      "cell_type": "code",
      "source": [
        "# Can be used for displaying images\n",
        "from IPython.display import Image\n",
        "Image('/content/drive/MyDrive/Deepfake/Ai vs Real image Detection Dataset/train/FAKE/1069 (10).jpg')"
      ],
      "metadata": {
        "id": "caWTg0N_2s4S",
        "colab": {
          "base_uri": "https://localhost:8080/",
          "height": 49
        },
        "outputId": "5061ce34-8615-4b7f-929d-d6fd9aba03c1"
      },
      "execution_count": null,
      "outputs": [
        {
          "output_type": "execute_result",
          "data": {
            "image/jpeg": "[encoded data removed]",
            "text/plain": [
              "<IPython.core.display.Image object>"
            ]
          },
          "metadata": {},
          "execution_count": 6
        }
      ]
    },
    {
      "cell_type": "markdown",
      "source": [
        "# Getting image paths and labels"
      ],
      "metadata": {
        "id": "46C0QFLDYCll"
      }
    },
    {
      "cell_type": "markdown",
      "source": [
        "****************************************************************************"
      ],
      "metadata": {
        "id": "NZKaeNrVYxoJ"
      }
    },
    {
      "cell_type": "markdown",
      "source": [
        "## *Skip Execution if already Done*......................................"
      ],
      "metadata": {
        "id": "ieOpgvYLutn1"
      }
    },
    {
      "cell_type": "code",
      "source": [
        "# Accessing File paths of Ai Generated images which will be used for training\n",
        "file_paths,file_name = paths('/content/drive/MyDrive/Deepfake/Ai vs Real image Detection Dataset/train/FAKE')"
      ],
      "metadata": {
        "id": "q70uslulQqyI"
      },
      "execution_count": null,
      "outputs": []
    },
    {
      "cell_type": "code",
      "source": [
        "len(file_paths)"
      ],
      "metadata": {
        "id": "LbcEDTrGRsaT",
        "colab": {
          "base_uri": "https://localhost:8080/"
        },
        "outputId": "ccf65864-c963-4fb1-e266-4dbfad51473f"
      },
      "execution_count": null,
      "outputs": [
        {
          "output_type": "execute_result",
          "data": {
            "text/plain": [
              "37800"
            ]
          },
          "metadata": {},
          "execution_count": 8
        }
      ]
    },
    {
      "cell_type": "code",
      "source": [
        "len(file_name)"
      ],
      "metadata": {
        "id": "t2KfVlrkR7Ti",
        "colab": {
          "base_uri": "https://localhost:8080/"
        },
        "outputId": "1950d829-ec4b-4afd-aae8-95b97d3dbec1"
      },
      "execution_count": null,
      "outputs": [
        {
          "output_type": "execute_result",
          "data": {
            "text/plain": [
              "37800"
            ]
          },
          "metadata": {},
          "execution_count": 9
        }
      ]
    },
    {
      "cell_type": "code",
      "source": [
        "# Creating a DataFrame for Convinience\n",
        "df = pd.DataFrame(file_name, columns=['Image'])\n",
        "df['Path']= file_paths\n",
        "df['Class']='Fake'\n",
        "df.head()"
      ],
      "metadata": {
        "id": "nXoZjOEUTALX",
        "colab": {
          "base_uri": "https://localhost:8080/",
          "height": 206
        },
        "outputId": "ca875026-6fe8-44ab-fe20-4dacc800c54b"
      },
      "execution_count": null,
      "outputs": [
        {
          "output_type": "execute_result",
          "data": {
            "text/plain": [
              "          Image                                               Path Class\n",
              "0  5811 (5).jpg  /content/drive/MyDrive/Deepfake/Ai vs Real ima...  Fake\n",
              "1      5882.jpg  /content/drive/MyDrive/Deepfake/Ai vs Real ima...  Fake\n",
              "2  5810 (7).jpg  /content/drive/MyDrive/Deepfake/Ai vs Real ima...  Fake\n",
              "3  5856 (2).jpg  /content/drive/MyDrive/Deepfake/Ai vs Real ima...  Fake\n",
              "4  5946 (7).jpg  /content/drive/MyDrive/Deepfake/Ai vs Real ima...  Fake"
            ],
            "text/html": [
              "\n",
              "  <div id=\"df-32cdafdd-2d0b-46f2-88d6-bbc9c6543090\" class=\"colab-df-container\">\n",
              "    <div>\n",
              "<style scoped>\n",
              "    .dataframe tbody tr th:only-of-type {\n",
              "        vertical-align: middle;\n",
              "    }\n",
              "\n",
              "    .dataframe tbody tr th {\n",
              "        vertical-align: top;\n",
              "    }\n",
              "\n",
              "    .dataframe thead th {\n",
              "        text-align: right;\n",
              "    }\n",
              "</style>\n",
              "<table border=\"1\" class=\"dataframe\">\n",
              "  <thead>\n",
              "    <tr style=\"text-align: right;\">\n",
              "      <th></th>\n",
              "      <th>Image</th>\n",
              "      <th>Path</th>\n",
              "      <th>Class</th>\n",
              "    </tr>\n",
              "  </thead>\n",
              "  <tbody>\n",
              "    <tr>\n",
              "      <th>0</th>\n",
              "      <td>5811 (5).jpg</td>\n",
              "      <td>/content/drive/MyDrive/Deepfake/Ai vs Real ima...</td>\n",
              "      <td>Fake</td>\n",
              "    </tr>\n",
              "    <tr>\n",
              "      <th>1</th>\n",
              "      <td>5882.jpg</td>\n",
              "      <td>/content/drive/MyDrive/Deepfake/Ai vs Real ima...</td>\n",
              "      <td>Fake</td>\n",
              "    </tr>\n",
              "    <tr>\n",
              "      <th>2</th>\n",
              "      <td>5810 (7).jpg</td>\n",
              "      <td>/content/drive/MyDrive/Deepfake/Ai vs Real ima...</td>\n",
              "      <td>Fake</td>\n",
              "    </tr>\n",
              "    <tr>\n",
              "      <th>3</th>\n",
              "      <td>5856 (2).jpg</td>\n",
              "      <td>/content/drive/MyDrive/Deepfake/Ai vs Real ima...</td>\n",
              "      <td>Fake</td>\n",
              "    </tr>\n",
              "    <tr>\n",
              "      <th>4</th>\n",
              "      <td>5946 (7).jpg</td>\n",
              "      <td>/content/drive/MyDrive/Deepfake/Ai vs Real ima...</td>\n",
              "      <td>Fake</td>\n",
              "    </tr>\n",
              "  </tbody>\n",
              "</table>\n",
              "</div>\n",
              "    <div class=\"colab-df-buttons\">\n",
              "\n",
              "  <div class=\"colab-df-container\">\n",
              "    <button class=\"colab-df-convert\" onclick=\"convertToInteractive('df-32cdafdd-2d0b-46f2-88d6-bbc9c6543090')\"\n",
              "            title=\"Convert this dataframe to an interactive table.\"\n",
              "            style=\"display:none;\">\n",
              "\n",
              "  <svg xmlns=\"http://www.w3.org/2000/svg\" height=\"24px\" viewBox=\"0 -960 960 960\">\n",
              "    <path d=\"M120-120v-720h720v720H120Zm60-500h600v-160H180v160Zm220 220h160v-160H400v160Zm0 220h160v-160H400v160ZM180-400h160v-160H180v160Zm440 0h160v-160H620v160ZM180-180h160v-160H180v160Zm440 0h160v-160H620v160Z\"/>\n",
              "  </svg>\n",
              "    </button>\n",
              "\n",
              "  <style>\n",
              "    .colab-df-container {\n",
              "      display:flex;\n",
              "      gap: 12px;\n",
              "    }\n",
              "\n",
              "    .colab-df-convert {\n",
              "      background-color: #E8F0FE;\n",
              "      border: none;\n",
              "      border-radius: 50%;\n",
              "      cursor: pointer;\n",
              "      display: none;\n",
              "      fill: #1967D2;\n",
              "      height: 32px;\n",
              "      padding: 0 0 0 0;\n",
              "      width: 32px;\n",
              "    }\n",
              "\n",
              "    .colab-df-convert:hover {\n",
              "      background-color: #E2EBFA;\n",
              "      box-shadow: 0px 1px 2px rgba(60, 64, 67, 0.3), 0px 1px 3px 1px rgba(60, 64, 67, 0.15);\n",
              "      fill: #174EA6;\n",
              "    }\n",
              "\n",
              "    .colab-df-buttons div {\n",
              "      margin-bottom: 4px;\n",
              "    }\n",
              "\n",
              "    [theme=dark] .colab-df-convert {\n",
              "      background-color: #3B4455;\n",
              "      fill: #D2E3FC;\n",
              "    }\n",
              "\n",
              "    [theme=dark] .colab-df-convert:hover {\n",
              "      background-color: #434B5C;\n",
              "      box-shadow: 0px 1px 3px 1px rgba(0, 0, 0, 0.15);\n",
              "      filter: drop-shadow(0px 1px 2px rgba(0, 0, 0, 0.3));\n",
              "      fill: #FFFFFF;\n",
              "    }\n",
              "  </style>\n",
              "\n",
              "    <script>\n",
              "      const buttonEl =\n",
              "        document.querySelector('#df-32cdafdd-2d0b-46f2-88d6-bbc9c6543090 button.colab-df-convert');\n",
              "      buttonEl.style.display =\n",
              "        google.colab.kernel.accessAllowed ? 'block' : 'none';\n",
              "\n",
              "      async function convertToInteractive(key) {\n",
              "        const element = document.querySelector('#df-32cdafdd-2d0b-46f2-88d6-bbc9c6543090');\n",
              "        const dataTable =\n",
              "          await google.colab.kernel.invokeFunction('convertToInteractive',\n",
              "                                                    [key], {});\n",
              "        if (!dataTable) return;\n",
              "\n",
              "        const docLinkHtml = 'Like what you see? Visit the ' +\n",
              "          '<a target=\"_blank\" href=https://colab.research.google.com/notebooks/data_table.ipynb>data table notebook</a>'\n",
              "          + ' to learn more about interactive tables.';\n",
              "        element.innerHTML = '';\n",
              "        dataTable['output_type'] = 'display_data';\n",
              "        await google.colab.output.renderOutput(dataTable, element);\n",
              "        const docLink = document.createElement('div');\n",
              "        docLink.innerHTML = docLinkHtml;\n",
              "        element.appendChild(docLink);\n",
              "      }\n",
              "    </script>\n",
              "  </div>\n",
              "\n",
              "\n",
              "<div id=\"df-7caa2996-3a91-4391-9f43-4e08445ca23b\">\n",
              "  <button class=\"colab-df-quickchart\" onclick=\"quickchart('df-7caa2996-3a91-4391-9f43-4e08445ca23b')\"\n",
              "            title=\"Suggest charts\"\n",
              "            style=\"display:none;\">\n",
              "\n",
              "<svg xmlns=\"http://www.w3.org/2000/svg\" height=\"24px\"viewBox=\"0 0 24 24\"\n",
              "     width=\"24px\">\n",
              "    <g>\n",
              "        <path d=\"M19 3H5c-1.1 0-2 .9-2 2v14c0 1.1.9 2 2 2h14c1.1 0 2-.9 2-2V5c0-1.1-.9-2-2-2zM9 17H7v-7h2v7zm4 0h-2V7h2v10zm4 0h-2v-4h2v4z\"/>\n",
              "    </g>\n",
              "</svg>\n",
              "  </button>\n",
              "\n",
              "<style>\n",
              "  .colab-df-quickchart {\n",
              "      --bg-color: #E8F0FE;\n",
              "      --fill-color: #1967D2;\n",
              "      --hover-bg-color: #E2EBFA;\n",
              "      --hover-fill-color: #174EA6;\n",
              "      --disabled-fill-color: #AAA;\n",
              "      --disabled-bg-color: #DDD;\n",
              "  }\n",
              "\n",
              "  [theme=dark] .colab-df-quickchart {\n",
              "      --bg-color: #3B4455;\n",
              "      --fill-color: #D2E3FC;\n",
              "      --hover-bg-color: #434B5C;\n",
              "      --hover-fill-color: #FFFFFF;\n",
              "      --disabled-bg-color: #3B4455;\n",
              "      --disabled-fill-color: #666;\n",
              "  }\n",
              "\n",
              "  .colab-df-quickchart {\n",
              "    background-color: var(--bg-color);\n",
              "    border: none;\n",
              "    border-radius: 50%;\n",
              "    cursor: pointer;\n",
              "    display: none;\n",
              "    fill: var(--fill-color);\n",
              "    height: 32px;\n",
              "    padding: 0;\n",
              "    width: 32px;\n",
              "  }\n",
              "\n",
              "  .colab-df-quickchart:hover {\n",
              "    background-color: var(--hover-bg-color);\n",
              "    box-shadow: 0 1px 2px rgba(60, 64, 67, 0.3), 0 1px 3px 1px rgba(60, 64, 67, 0.15);\n",
              "    fill: var(--button-hover-fill-color);\n",
              "  }\n",
              "\n",
              "  .colab-df-quickchart-complete:disabled,\n",
              "  .colab-df-quickchart-complete:disabled:hover {\n",
              "    background-color: var(--disabled-bg-color);\n",
              "    fill: var(--disabled-fill-color);\n",
              "    box-shadow: none;\n",
              "  }\n",
              "\n",
              "  .colab-df-spinner {\n",
              "    border: 2px solid var(--fill-color);\n",
              "    border-color: transparent;\n",
              "    border-bottom-color: var(--fill-color);\n",
              "    animation:\n",
              "      spin 1s steps(1) infinite;\n",
              "  }\n",
              "\n",
              "  @keyframes spin {\n",
              "    0% {\n",
              "      border-color: transparent;\n",
              "      border-bottom-color: var(--fill-color);\n",
              "      border-left-color: var(--fill-color);\n",
              "    }\n",
              "    20% {\n",
              "      border-color: transparent;\n",
              "      border-left-color: var(--fill-color);\n",
              "      border-top-color: var(--fill-color);\n",
              "    }\n",
              "    30% {\n",
              "      border-color: transparent;\n",
              "      border-left-color: var(--fill-color);\n",
              "      border-top-color: var(--fill-color);\n",
              "      border-right-color: var(--fill-color);\n",
              "    }\n",
              "    40% {\n",
              "      border-color: transparent;\n",
              "      border-right-color: var(--fill-color);\n",
              "      border-top-color: var(--fill-color);\n",
              "    }\n",
              "    60% {\n",
              "      border-color: transparent;\n",
              "      border-right-color: var(--fill-color);\n",
              "    }\n",
              "    80% {\n",
              "      border-color: transparent;\n",
              "      border-right-color: var(--fill-color);\n",
              "      border-bottom-color: var(--fill-color);\n",
              "    }\n",
              "    90% {\n",
              "      border-color: transparent;\n",
              "      border-bottom-color: var(--fill-color);\n",
              "    }\n",
              "  }\n",
              "</style>\n",
              "\n",
              "  <script>\n",
              "    async function quickchart(key) {\n",
              "      const quickchartButtonEl =\n",
              "        document.querySelector('#' + key + ' button');\n",
              "      quickchartButtonEl.disabled = true;  // To prevent multiple clicks.\n",
              "      quickchartButtonEl.classList.add('colab-df-spinner');\n",
              "      try {\n",
              "        const charts = await google.colab.kernel.invokeFunction(\n",
              "            'suggestCharts', [key], {});\n",
              "      } catch (error) {\n",
              "        console.error('Error during call to suggestCharts:', error);\n",
              "      }\n",
              "      quickchartButtonEl.classList.remove('colab-df-spinner');\n",
              "      quickchartButtonEl.classList.add('colab-df-quickchart-complete');\n",
              "    }\n",
              "    (() => {\n",
              "      let quickchartButtonEl =\n",
              "        document.querySelector('#df-7caa2996-3a91-4391-9f43-4e08445ca23b button');\n",
              "      quickchartButtonEl.style.display =\n",
              "        google.colab.kernel.accessAllowed ? 'block' : 'none';\n",
              "    })();\n",
              "  </script>\n",
              "</div>\n",
              "\n",
              "    </div>\n",
              "  </div>\n"
            ]
          },
          "metadata": {},
          "execution_count": 10
        }
      ]
    },
    {
      "cell_type": "code",
      "source": [
        "# Accessing File paths of Real images which will be used for training\n",
        "file_paths,file_name = paths('/content/drive/MyDrive/Deepfake/Ai vs Real image Detection Dataset/test/REAL')\n"
      ],
      "metadata": {
        "id": "--tASWj1Ud1A",
        "colab": {
          "base_uri": "https://localhost:8080/",
          "height": 339
        },
        "outputId": "879b57a8-45df-4b1b-857c-b8b2a1edd465"
      },
      "execution_count": null,
      "outputs": [
        {
          "output_type": "error",
          "ename": "KeyboardInterrupt",
          "evalue": "",
          "traceback": [
            "\u001b[0;31m---------------------------------------------------------------------------\u001b[0m",
            "\u001b[0;31mKeyboardInterrupt\u001b[0m                         Traceback (most recent call last)",
            "\u001b[0;32m<ipython-input-11-959c88afdbbe>\u001b[0m in \u001b[0;36m<cell line: 2>\u001b[0;34m()\u001b[0m\n\u001b[1;32m      1\u001b[0m \u001b[0;31m# Accessing File paths of Real images which will be used for training\u001b[0m\u001b[0;34m\u001b[0m\u001b[0;34m\u001b[0m\u001b[0m\n\u001b[0;32m----> 2\u001b[0;31m \u001b[0mfile_paths\u001b[0m\u001b[0;34m,\u001b[0m\u001b[0mfile_name\u001b[0m \u001b[0;34m=\u001b[0m \u001b[0mpaths\u001b[0m\u001b[0;34m(\u001b[0m\u001b[0;34m'/content/drive/MyDrive/Deepfake/Ai vs Real image Detection Dataset/test/REAL'\u001b[0m\u001b[0;34m)\u001b[0m\u001b[0;34m\u001b[0m\u001b[0;34m\u001b[0m\u001b[0m\n\u001b[0m",
            "\u001b[0;32m<ipython-input-5-6b5feba13bba>\u001b[0m in \u001b[0;36mpaths\u001b[0;34m(p)\u001b[0m\n\u001b[1;32m      6\u001b[0m   \u001b[0mfile_paths\u001b[0m \u001b[0;34m=\u001b[0m \u001b[0;34m[\u001b[0m\u001b[0;34m]\u001b[0m\u001b[0;34m\u001b[0m\u001b[0;34m\u001b[0m\u001b[0m\n\u001b[1;32m      7\u001b[0m   \u001b[0mfile_name\u001b[0m \u001b[0;34m=\u001b[0m \u001b[0;34m[\u001b[0m\u001b[0;34m]\u001b[0m\u001b[0;34m\u001b[0m\u001b[0;34m\u001b[0m\u001b[0m\n\u001b[0;32m----> 8\u001b[0;31m   \u001b[0;32mfor\u001b[0m \u001b[0mroot\u001b[0m\u001b[0;34m,\u001b[0m \u001b[0mdirs\u001b[0m\u001b[0;34m,\u001b[0m \u001b[0mfiles\u001b[0m \u001b[0;32min\u001b[0m \u001b[0mos\u001b[0m\u001b[0;34m.\u001b[0m\u001b[0mwalk\u001b[0m\u001b[0;34m(\u001b[0m\u001b[0mfolder_path\u001b[0m\u001b[0;34m)\u001b[0m\u001b[0;34m:\u001b[0m\u001b[0;34m\u001b[0m\u001b[0;34m\u001b[0m\u001b[0m\n\u001b[0m\u001b[1;32m      9\u001b[0m       \u001b[0;32mfor\u001b[0m \u001b[0mfile\u001b[0m \u001b[0;32min\u001b[0m \u001b[0mfiles\u001b[0m\u001b[0;34m:\u001b[0m\u001b[0;34m\u001b[0m\u001b[0;34m\u001b[0m\u001b[0m\n\u001b[1;32m     10\u001b[0m           \u001b[0mfile_paths\u001b[0m\u001b[0;34m.\u001b[0m\u001b[0mappend\u001b[0m\u001b[0;34m(\u001b[0m\u001b[0mos\u001b[0m\u001b[0;34m.\u001b[0m\u001b[0mpath\u001b[0m\u001b[0;34m.\u001b[0m\u001b[0mjoin\u001b[0m\u001b[0;34m(\u001b[0m\u001b[0mroot\u001b[0m\u001b[0;34m,\u001b[0m \u001b[0mfile\u001b[0m\u001b[0;34m)\u001b[0m\u001b[0;34m)\u001b[0m\u001b[0;34m\u001b[0m\u001b[0;34m\u001b[0m\u001b[0m\n",
            "\u001b[0;32m/usr/lib/python3.10/os.py\u001b[0m in \u001b[0;36m_walk\u001b[0;34m(top, topdown, onerror, followlinks)\u001b[0m\n\u001b[1;32m    356\u001b[0m         \u001b[0;31m# Note that scandir is global in this module due\u001b[0m\u001b[0;34m\u001b[0m\u001b[0;34m\u001b[0m\u001b[0m\n\u001b[1;32m    357\u001b[0m         \u001b[0;31m# to earlier import-*.\u001b[0m\u001b[0;34m\u001b[0m\u001b[0;34m\u001b[0m\u001b[0m\n\u001b[0;32m--> 358\u001b[0;31m         \u001b[0mscandir_it\u001b[0m \u001b[0;34m=\u001b[0m \u001b[0mscandir\u001b[0m\u001b[0;34m(\u001b[0m\u001b[0mtop\u001b[0m\u001b[0;34m)\u001b[0m\u001b[0;34m\u001b[0m\u001b[0;34m\u001b[0m\u001b[0m\n\u001b[0m\u001b[1;32m    359\u001b[0m     \u001b[0;32mexcept\u001b[0m \u001b[0mOSError\u001b[0m \u001b[0;32mas\u001b[0m \u001b[0merror\u001b[0m\u001b[0;34m:\u001b[0m\u001b[0;34m\u001b[0m\u001b[0;34m\u001b[0m\u001b[0m\n\u001b[1;32m    360\u001b[0m         \u001b[0;32mif\u001b[0m \u001b[0monerror\u001b[0m \u001b[0;32mis\u001b[0m \u001b[0;32mnot\u001b[0m \u001b[0;32mNone\u001b[0m\u001b[0;34m:\u001b[0m\u001b[0;34m\u001b[0m\u001b[0;34m\u001b[0m\u001b[0m\n",
            "\u001b[0;31mKeyboardInterrupt\u001b[0m: "
          ]
        }
      ]
    },
    {
      "cell_type": "code",
      "source": [
        "print(len(file_name))\n",
        "new_data = pd.DataFrame(file_name, columns=['Image'])\n",
        "new_data['Path'] = file_paths\n",
        "new_data['Class'] = 'Real'\n",
        "resulting_data = pd.concat([df, new_data], ignore_index=True)\n",
        "del new_data\n",
        "resulting_data"
      ],
      "metadata": {
        "id": "nEVsCTOhUgKx"
      },
      "execution_count": null,
      "outputs": []
    },
    {
      "cell_type": "code",
      "source": [
        "\n",
        "resulting_data['Class'].value_counts()\n",
        "resulting_data.to_csv('//content/drive/MyDrive/Deepfake/Test_Info.csv', index=False)"
      ],
      "metadata": {
        "id": "oYSZEguUYmWY"
      },
      "execution_count": null,
      "outputs": []
    },
    {
      "cell_type": "markdown",
      "source": [
        "## Start Execution from below to save time no need to redo *****************"
      ],
      "metadata": {
        "id": "mOwSQtgvu-3U"
      }
    },
    {
      "cell_type": "markdown",
      "source": [
        "****************************************************************************"
      ],
      "metadata": {
        "id": "o3l9fER1Y4Ar"
      }
    },
    {
      "cell_type": "code",
      "source": [
        "# resulting_data.to_csv('//content/drive/MyDrive/Deepfake/Test_Info.csv', index=False)\n",
        "resulting_data = pd.read_csv('//content/drive/MyDrive/Deepfake/Test_Info.csv')\n",
        "resulting_data"
      ],
      "metadata": {
        "id": "42ZDFx4kbysk",
        "colab": {
          "base_uri": "https://localhost:8080/",
          "height": 423
        },
        "outputId": "6bcef811-4ecb-441b-ced9-8d1bbd568d25"
      },
      "execution_count": null,
      "outputs": [
        {
          "output_type": "execute_result",
          "data": {
            "text/plain": [
              "              Image                                               Path Class\n",
              "0      5811 (5).jpg  /content/drive/MyDrive/Deepfake/Ai vs Real ima...  Fake\n",
              "1          5882.jpg  /content/drive/MyDrive/Deepfake/Ai vs Real ima...  Fake\n",
              "2      5810 (7).jpg  /content/drive/MyDrive/Deepfake/Ai vs Real ima...  Fake\n",
              "3      5856 (2).jpg  /content/drive/MyDrive/Deepfake/Ai vs Real ima...  Fake\n",
              "4      5946 (7).jpg  /content/drive/MyDrive/Deepfake/Ai vs Real ima...  Fake\n",
              "...             ...                                                ...   ...\n",
              "47795  0134 (8).jpg  /content/drive/MyDrive/Deepfake/Ai vs Real ima...  Real\n",
              "47796  0049 (6).jpg  /content/drive/MyDrive/Deepfake/Ai vs Real ima...  Real\n",
              "47797  0103 (8).jpg  /content/drive/MyDrive/Deepfake/Ai vs Real ima...  Real\n",
              "47798  0055 (8).jpg  /content/drive/MyDrive/Deepfake/Ai vs Real ima...  Real\n",
              "47799  0046 (6).jpg  /content/drive/MyDrive/Deepfake/Ai vs Real ima...  Real\n",
              "\n",
              "[47800 rows x 3 columns]"
            ],
            "text/html": [
              "\n",
              "  <div id=\"df-995a361f-0985-42ff-9fd6-9b23101074ca\" class=\"colab-df-container\">\n",
              "    <div>\n",
              "<style scoped>\n",
              "    .dataframe tbody tr th:only-of-type {\n",
              "        vertical-align: middle;\n",
              "    }\n",
              "\n",
              "    .dataframe tbody tr th {\n",
              "        vertical-align: top;\n",
              "    }\n",
              "\n",
              "    .dataframe thead th {\n",
              "        text-align: right;\n",
              "    }\n",
              "</style>\n",
              "<table border=\"1\" class=\"dataframe\">\n",
              "  <thead>\n",
              "    <tr style=\"text-align: right;\">\n",
              "      <th></th>\n",
              "      <th>Image</th>\n",
              "      <th>Path</th>\n",
              "      <th>Class</th>\n",
              "    </tr>\n",
              "  </thead>\n",
              "  <tbody>\n",
              "    <tr>\n",
              "      <th>0</th>\n",
              "      <td>5811 (5).jpg</td>\n",
              "      <td>/content/drive/MyDrive/Deepfake/Ai vs Real ima...</td>\n",
              "      <td>Fake</td>\n",
              "    </tr>\n",
              "    <tr>\n",
              "      <th>1</th>\n",
              "      <td>5882.jpg</td>\n",
              "      <td>/content/drive/MyDrive/Deepfake/Ai vs Real ima...</td>\n",
              "      <td>Fake</td>\n",
              "    </tr>\n",
              "    <tr>\n",
              "      <th>2</th>\n",
              "      <td>5810 (7).jpg</td>\n",
              "      <td>/content/drive/MyDrive/Deepfake/Ai vs Real ima...</td>\n",
              "      <td>Fake</td>\n",
              "    </tr>\n",
              "    <tr>\n",
              "      <th>3</th>\n",
              "      <td>5856 (2).jpg</td>\n",
              "      <td>/content/drive/MyDrive/Deepfake/Ai vs Real ima...</td>\n",
              "      <td>Fake</td>\n",
              "    </tr>\n",
              "    <tr>\n",
              "      <th>4</th>\n",
              "      <td>5946 (7).jpg</td>\n",
              "      <td>/content/drive/MyDrive/Deepfake/Ai vs Real ima...</td>\n",
              "      <td>Fake</td>\n",
              "    </tr>\n",
              "    <tr>\n",
              "      <th>...</th>\n",
              "      <td>...</td>\n",
              "      <td>...</td>\n",
              "      <td>...</td>\n",
              "    </tr>\n",
              "    <tr>\n",
              "      <th>47795</th>\n",
              "      <td>0134 (8).jpg</td>\n",
              "      <td>/content/drive/MyDrive/Deepfake/Ai vs Real ima...</td>\n",
              "      <td>Real</td>\n",
              "    </tr>\n",
              "    <tr>\n",
              "      <th>47796</th>\n",
              "      <td>0049 (6).jpg</td>\n",
              "      <td>/content/drive/MyDrive/Deepfake/Ai vs Real ima...</td>\n",
              "      <td>Real</td>\n",
              "    </tr>\n",
              "    <tr>\n",
              "      <th>47797</th>\n",
              "      <td>0103 (8).jpg</td>\n",
              "      <td>/content/drive/MyDrive/Deepfake/Ai vs Real ima...</td>\n",
              "      <td>Real</td>\n",
              "    </tr>\n",
              "    <tr>\n",
              "      <th>47798</th>\n",
              "      <td>0055 (8).jpg</td>\n",
              "      <td>/content/drive/MyDrive/Deepfake/Ai vs Real ima...</td>\n",
              "      <td>Real</td>\n",
              "    </tr>\n",
              "    <tr>\n",
              "      <th>47799</th>\n",
              "      <td>0046 (6).jpg</td>\n",
              "      <td>/content/drive/MyDrive/Deepfake/Ai vs Real ima...</td>\n",
              "      <td>Real</td>\n",
              "    </tr>\n",
              "  </tbody>\n",
              "</table>\n",
              "<p>47800 rows × 3 columns</p>\n",
              "</div>\n",
              "    <div class=\"colab-df-buttons\">\n",
              "\n",
              "  <div class=\"colab-df-container\">\n",
              "    <button class=\"colab-df-convert\" onclick=\"convertToInteractive('df-995a361f-0985-42ff-9fd6-9b23101074ca')\"\n",
              "            title=\"Convert this dataframe to an interactive table.\"\n",
              "            style=\"display:none;\">\n",
              "\n",
              "  <svg xmlns=\"http://www.w3.org/2000/svg\" height=\"24px\" viewBox=\"0 -960 960 960\">\n",
              "    <path d=\"M120-120v-720h720v720H120Zm60-500h600v-160H180v160Zm220 220h160v-160H400v160Zm0 220h160v-160H400v160ZM180-400h160v-160H180v160Zm440 0h160v-160H620v160ZM180-180h160v-160H180v160Zm440 0h160v-160H620v160Z\"/>\n",
              "  </svg>\n",
              "    </button>\n",
              "\n",
              "  <style>\n",
              "    .colab-df-container {\n",
              "      display:flex;\n",
              "      gap: 12px;\n",
              "    }\n",
              "\n",
              "    .colab-df-convert {\n",
              "      background-color: #E8F0FE;\n",
              "      border: none;\n",
              "      border-radius: 50%;\n",
              "      cursor: pointer;\n",
              "      display: none;\n",
              "      fill: #1967D2;\n",
              "      height: 32px;\n",
              "      padding: 0 0 0 0;\n",
              "      width: 32px;\n",
              "    }\n",
              "\n",
              "    .colab-df-convert:hover {\n",
              "      background-color: #E2EBFA;\n",
              "      box-shadow: 0px 1px 2px rgba(60, 64, 67, 0.3), 0px 1px 3px 1px rgba(60, 64, 67, 0.15);\n",
              "      fill: #174EA6;\n",
              "    }\n",
              "\n",
              "    .colab-df-buttons div {\n",
              "      margin-bottom: 4px;\n",
              "    }\n",
              "\n",
              "    [theme=dark] .colab-df-convert {\n",
              "      background-color: #3B4455;\n",
              "      fill: #D2E3FC;\n",
              "    }\n",
              "\n",
              "    [theme=dark] .colab-df-convert:hover {\n",
              "      background-color: #434B5C;\n",
              "      box-shadow: 0px 1px 3px 1px rgba(0, 0, 0, 0.15);\n",
              "      filter: drop-shadow(0px 1px 2px rgba(0, 0, 0, 0.3));\n",
              "      fill: #FFFFFF;\n",
              "    }\n",
              "  </style>\n",
              "\n",
              "    <script>\n",
              "      const buttonEl =\n",
              "        document.querySelector('#df-995a361f-0985-42ff-9fd6-9b23101074ca button.colab-df-convert');\n",
              "      buttonEl.style.display =\n",
              "        google.colab.kernel.accessAllowed ? 'block' : 'none';\n",
              "\n",
              "      async function convertToInteractive(key) {\n",
              "        const element = document.querySelector('#df-995a361f-0985-42ff-9fd6-9b23101074ca');\n",
              "        const dataTable =\n",
              "          await google.colab.kernel.invokeFunction('convertToInteractive',\n",
              "                                                    [key], {});\n",
              "        if (!dataTable) return;\n",
              "\n",
              "        const docLinkHtml = 'Like what you see? Visit the ' +\n",
              "          '<a target=\"_blank\" href=https://colab.research.google.com/notebooks/data_table.ipynb>data table notebook</a>'\n",
              "          + ' to learn more about interactive tables.';\n",
              "        element.innerHTML = '';\n",
              "        dataTable['output_type'] = 'display_data';\n",
              "        await google.colab.output.renderOutput(dataTable, element);\n",
              "        const docLink = document.createElement('div');\n",
              "        docLink.innerHTML = docLinkHtml;\n",
              "        element.appendChild(docLink);\n",
              "      }\n",
              "    </script>\n",
              "  </div>\n",
              "\n",
              "\n",
              "<div id=\"df-50138c66-c62f-4718-8b11-39196378696f\">\n",
              "  <button class=\"colab-df-quickchart\" onclick=\"quickchart('df-50138c66-c62f-4718-8b11-39196378696f')\"\n",
              "            title=\"Suggest charts\"\n",
              "            style=\"display:none;\">\n",
              "\n",
              "<svg xmlns=\"http://www.w3.org/2000/svg\" height=\"24px\"viewBox=\"0 0 24 24\"\n",
              "     width=\"24px\">\n",
              "    <g>\n",
              "        <path d=\"M19 3H5c-1.1 0-2 .9-2 2v14c0 1.1.9 2 2 2h14c1.1 0 2-.9 2-2V5c0-1.1-.9-2-2-2zM9 17H7v-7h2v7zm4 0h-2V7h2v10zm4 0h-2v-4h2v4z\"/>\n",
              "    </g>\n",
              "</svg>\n",
              "  </button>\n",
              "\n",
              "<style>\n",
              "  .colab-df-quickchart {\n",
              "      --bg-color: #E8F0FE;\n",
              "      --fill-color: #1967D2;\n",
              "      --hover-bg-color: #E2EBFA;\n",
              "      --hover-fill-color: #174EA6;\n",
              "      --disabled-fill-color: #AAA;\n",
              "      --disabled-bg-color: #DDD;\n",
              "  }\n",
              "\n",
              "  [theme=dark] .colab-df-quickchart {\n",
              "      --bg-color: #3B4455;\n",
              "      --fill-color: #D2E3FC;\n",
              "      --hover-bg-color: #434B5C;\n",
              "      --hover-fill-color: #FFFFFF;\n",
              "      --disabled-bg-color: #3B4455;\n",
              "      --disabled-fill-color: #666;\n",
              "  }\n",
              "\n",
              "  .colab-df-quickchart {\n",
              "    background-color: var(--bg-color);\n",
              "    border: none;\n",
              "    border-radius: 50%;\n",
              "    cursor: pointer;\n",
              "    display: none;\n",
              "    fill: var(--fill-color);\n",
              "    height: 32px;\n",
              "    padding: 0;\n",
              "    width: 32px;\n",
              "  }\n",
              "\n",
              "  .colab-df-quickchart:hover {\n",
              "    background-color: var(--hover-bg-color);\n",
              "    box-shadow: 0 1px 2px rgba(60, 64, 67, 0.3), 0 1px 3px 1px rgba(60, 64, 67, 0.15);\n",
              "    fill: var(--button-hover-fill-color);\n",
              "  }\n",
              "\n",
              "  .colab-df-quickchart-complete:disabled,\n",
              "  .colab-df-quickchart-complete:disabled:hover {\n",
              "    background-color: var(--disabled-bg-color);\n",
              "    fill: var(--disabled-fill-color);\n",
              "    box-shadow: none;\n",
              "  }\n",
              "\n",
              "  .colab-df-spinner {\n",
              "    border: 2px solid var(--fill-color);\n",
              "    border-color: transparent;\n",
              "    border-bottom-color: var(--fill-color);\n",
              "    animation:\n",
              "      spin 1s steps(1) infinite;\n",
              "  }\n",
              "\n",
              "  @keyframes spin {\n",
              "    0% {\n",
              "      border-color: transparent;\n",
              "      border-bottom-color: var(--fill-color);\n",
              "      border-left-color: var(--fill-color);\n",
              "    }\n",
              "    20% {\n",
              "      border-color: transparent;\n",
              "      border-left-color: var(--fill-color);\n",
              "      border-top-color: var(--fill-color);\n",
              "    }\n",
              "    30% {\n",
              "      border-color: transparent;\n",
              "      border-left-color: var(--fill-color);\n",
              "      border-top-color: var(--fill-color);\n",
              "      border-right-color: var(--fill-color);\n",
              "    }\n",
              "    40% {\n",
              "      border-color: transparent;\n",
              "      border-right-color: var(--fill-color);\n",
              "      border-top-color: var(--fill-color);\n",
              "    }\n",
              "    60% {\n",
              "      border-color: transparent;\n",
              "      border-right-color: var(--fill-color);\n",
              "    }\n",
              "    80% {\n",
              "      border-color: transparent;\n",
              "      border-right-color: var(--fill-color);\n",
              "      border-bottom-color: var(--fill-color);\n",
              "    }\n",
              "    90% {\n",
              "      border-color: transparent;\n",
              "      border-bottom-color: var(--fill-color);\n",
              "    }\n",
              "  }\n",
              "</style>\n",
              "\n",
              "  <script>\n",
              "    async function quickchart(key) {\n",
              "      const quickchartButtonEl =\n",
              "        document.querySelector('#' + key + ' button');\n",
              "      quickchartButtonEl.disabled = true;  // To prevent multiple clicks.\n",
              "      quickchartButtonEl.classList.add('colab-df-spinner');\n",
              "      try {\n",
              "        const charts = await google.colab.kernel.invokeFunction(\n",
              "            'suggestCharts', [key], {});\n",
              "      } catch (error) {\n",
              "        console.error('Error during call to suggestCharts:', error);\n",
              "      }\n",
              "      quickchartButtonEl.classList.remove('colab-df-spinner');\n",
              "      quickchartButtonEl.classList.add('colab-df-quickchart-complete');\n",
              "    }\n",
              "    (() => {\n",
              "      let quickchartButtonEl =\n",
              "        document.querySelector('#df-50138c66-c62f-4718-8b11-39196378696f button');\n",
              "      quickchartButtonEl.style.display =\n",
              "        google.colab.kernel.accessAllowed ? 'block' : 'none';\n",
              "    })();\n",
              "  </script>\n",
              "</div>\n",
              "\n",
              "  <div id=\"id_725a6b71-38ce-422b-bf07-df11077d89a3\">\n",
              "    <style>\n",
              "      .colab-df-generate {\n",
              "        background-color: #E8F0FE;\n",
              "        border: none;\n",
              "        border-radius: 50%;\n",
              "        cursor: pointer;\n",
              "        display: none;\n",
              "        fill: #1967D2;\n",
              "        height: 32px;\n",
              "        padding: 0 0 0 0;\n",
              "        width: 32px;\n",
              "      }\n",
              "\n",
              "      .colab-df-generate:hover {\n",
              "        background-color: #E2EBFA;\n",
              "        box-shadow: 0px 1px 2px rgba(60, 64, 67, 0.3), 0px 1px 3px 1px rgba(60, 64, 67, 0.15);\n",
              "        fill: #174EA6;\n",
              "      }\n",
              "\n",
              "      [theme=dark] .colab-df-generate {\n",
              "        background-color: #3B4455;\n",
              "        fill: #D2E3FC;\n",
              "      }\n",
              "\n",
              "      [theme=dark] .colab-df-generate:hover {\n",
              "        background-color: #434B5C;\n",
              "        box-shadow: 0px 1px 3px 1px rgba(0, 0, 0, 0.15);\n",
              "        filter: drop-shadow(0px 1px 2px rgba(0, 0, 0, 0.3));\n",
              "        fill: #FFFFFF;\n",
              "      }\n",
              "    </style>\n",
              "    <button class=\"colab-df-generate\" onclick=\"generateWithVariable('resulting_data')\"\n",
              "            title=\"Generate code using this dataframe.\"\n",
              "            style=\"display:none;\">\n",
              "\n",
              "  <svg xmlns=\"http://www.w3.org/2000/svg\" height=\"24px\"viewBox=\"0 0 24 24\"\n",
              "       width=\"24px\">\n",
              "    <path d=\"M7,19H8.4L18.45,9,17,7.55,7,17.6ZM5,21V16.75L18.45,3.32a2,2,0,0,1,2.83,0l1.4,1.43a1.91,1.91,0,0,1,.58,1.4,1.91,1.91,0,0,1-.58,1.4L9.25,21ZM18.45,9,17,7.55Zm-12,3A5.31,5.31,0,0,0,4.9,8.1,5.31,5.31,0,0,0,1,6.5,5.31,5.31,0,0,0,4.9,4.9,5.31,5.31,0,0,0,6.5,1,5.31,5.31,0,0,0,8.1,4.9,5.31,5.31,0,0,0,12,6.5,5.46,5.46,0,0,0,6.5,12Z\"/>\n",
              "  </svg>\n",
              "    </button>\n",
              "    <script>\n",
              "      (() => {\n",
              "      const buttonEl =\n",
              "        document.querySelector('#id_725a6b71-38ce-422b-bf07-df11077d89a3 button.colab-df-generate');\n",
              "      buttonEl.style.display =\n",
              "        google.colab.kernel.accessAllowed ? 'block' : 'none';\n",
              "\n",
              "      buttonEl.onclick = () => {\n",
              "        google.colab.notebook.generateWithVariable('resulting_data');\n",
              "      }\n",
              "      })();\n",
              "    </script>\n",
              "  </div>\n",
              "\n",
              "    </div>\n",
              "  </div>\n"
            ]
          },
          "metadata": {},
          "execution_count": 7
        }
      ]
    },
    {
      "cell_type": "markdown",
      "source": [
        "# Categorigal labels to tensors"
      ],
      "metadata": {
        "id": "k7k8Khe6mjRJ"
      }
    },
    {
      "cell_type": "code",
      "source": [
        "labels = resulting_data['Class'].to_numpy()"
      ],
      "metadata": {
        "id": "roZ_fx91cTGs"
      },
      "execution_count": null,
      "outputs": []
    },
    {
      "cell_type": "code",
      "source": [
        "labels"
      ],
      "metadata": {
        "colab": {
          "base_uri": "https://localhost:8080/"
        },
        "id": "183jhtImqo5Y",
        "outputId": "12c2169f-c7d9-4b93-8a9a-c20149230c64"
      },
      "execution_count": null,
      "outputs": [
        {
          "output_type": "execute_result",
          "data": {
            "text/plain": [
              "array(['Fake', 'Fake', 'Fake', ..., 'Real', 'Real', 'Real'], dtype=object)"
            ]
          },
          "metadata": {},
          "execution_count": 9
        }
      ]
    },
    {
      "cell_type": "code",
      "source": [
        "# len(labels)\n",
        "unique = np.unique(labels)"
      ],
      "metadata": {
        "id": "YC2NtHJjm1M-"
      },
      "execution_count": null,
      "outputs": []
    },
    {
      "cell_type": "markdown",
      "source": [
        "Turning Labels into boolean or numeric form"
      ],
      "metadata": {
        "id": "H2XjaOpJnSD9"
      }
    },
    {
      "cell_type": "code",
      "source": [
        "bool_labels = [label == unique for label in labels]\n",
        "bool_labels[:10]"
      ],
      "metadata": {
        "colab": {
          "base_uri": "https://localhost:8080/"
        },
        "id": "-WqQkBjSm4Ca",
        "outputId": "6722458e-5367-433e-c4c5-1d3638af3ee4"
      },
      "execution_count": null,
      "outputs": [
        {
          "output_type": "execute_result",
          "data": {
            "text/plain": [
              "[array([ True, False]),\n",
              " array([ True, False]),\n",
              " array([ True, False]),\n",
              " array([ True, False]),\n",
              " array([ True, False]),\n",
              " array([ True, False]),\n",
              " array([ True, False]),\n",
              " array([ True, False]),\n",
              " array([ True, False]),\n",
              " array([ True, False])]"
            ]
          },
          "metadata": {},
          "execution_count": 11
        }
      ]
    },
    {
      "cell_type": "code",
      "source": [
        "len(bool_labels) #just for verification"
      ],
      "metadata": {
        "colab": {
          "base_uri": "https://localhost:8080/"
        },
        "id": "fwxDrwZAoAdE",
        "outputId": "5d621a3a-ad28-46ad-94b3-1e539ddbfc5d"
      },
      "execution_count": null,
      "outputs": [
        {
          "output_type": "execute_result",
          "data": {
            "text/plain": [
              "47800"
            ]
          },
          "metadata": {},
          "execution_count": 12
        }
      ]
    },
    {
      "cell_type": "code",
      "source": [
        "# Converting bool to Tensors\n",
        "print(\"Binary Matrix = [fake,real]\")\n",
        "print(labels[47797])\n",
        "print(bool_labels[47797].astype(int)) # as we have only two classes\n"
      ],
      "metadata": {
        "colab": {
          "base_uri": "https://localhost:8080/"
        },
        "id": "TwKoQI3gpcJ3",
        "outputId": "b9f68b62-dc43-4725-cead-1f4084fa63e1"
      },
      "execution_count": null,
      "outputs": [
        {
          "output_type": "stream",
          "name": "stdout",
          "text": [
            "Binary Matrix = [fake,real]\n",
            "Real\n",
            "[0 1]\n"
          ]
        }
      ]
    },
    {
      "cell_type": "markdown",
      "source": [
        "# To reduce Time between Expirimentation we will take help of sampling 1000 images first to get good idea of the parameters\n",
        "\n",
        "So we will start with 1000 images"
      ],
      "metadata": {
        "id": "bg8vV8k3x73I"
      }
    },
    {
      "cell_type": "code",
      "source": [
        "# Number of images for expirimenting\n",
        "NUM_IMAGES = 1000 #@param {type:\"slider\",min:100,max:47000}"
      ],
      "metadata": {
        "id": "DvaOLehUyIaB"
      },
      "execution_count": null,
      "outputs": []
    },
    {
      "cell_type": "markdown",
      "source": [
        "# Modelling"
      ],
      "metadata": {
        "id": "uS5HhK0lz1Gn"
      }
    },
    {
      "cell_type": "code",
      "source": [
        "# df = pd.read_csv('//content/drive/MyDrive/Deepfake/Test_Info.csv')\n",
        "# df"
      ],
      "metadata": {
        "id": "Er4Xsj5szQ8L"
      },
      "execution_count": null,
      "outputs": []
    },
    {
      "cell_type": "code",
      "source": [
        "X = resulting_data['Path'].to_numpy()\n",
        "print(X[:10],\"Length :\",len(X))"
      ],
      "metadata": {
        "colab": {
          "base_uri": "https://localhost:8080/"
        },
        "id": "vFd0e79NsIxl",
        "outputId": "b5c40218-8bd9-4a7b-d4f7-3bbca623e5df"
      },
      "execution_count": null,
      "outputs": [
        {
          "output_type": "stream",
          "name": "stdout",
          "text": [
            "['/content/drive/MyDrive/Deepfake/Ai vs Real image Detection Dataset/train/FAKE/5811 (5).jpg'\n",
            " '/content/drive/MyDrive/Deepfake/Ai vs Real image Detection Dataset/train/FAKE/5882.jpg'\n",
            " '/content/drive/MyDrive/Deepfake/Ai vs Real image Detection Dataset/train/FAKE/5810 (7).jpg'\n",
            " '/content/drive/MyDrive/Deepfake/Ai vs Real image Detection Dataset/train/FAKE/5856 (2).jpg'\n",
            " '/content/drive/MyDrive/Deepfake/Ai vs Real image Detection Dataset/train/FAKE/5946 (7).jpg'\n",
            " '/content/drive/MyDrive/Deepfake/Ai vs Real image Detection Dataset/train/FAKE/5866 (3).jpg'\n",
            " '/content/drive/MyDrive/Deepfake/Ai vs Real image Detection Dataset/train/FAKE/5955 (9).jpg'\n",
            " '/content/drive/MyDrive/Deepfake/Ai vs Real image Detection Dataset/train/FAKE/5900 (2).jpg'\n",
            " '/content/drive/MyDrive/Deepfake/Ai vs Real image Detection Dataset/train/FAKE/5865 (6).jpg'\n",
            " '/content/drive/MyDrive/Deepfake/Ai vs Real image Detection Dataset/train/FAKE/5856 (5).jpg'] Length : 47800\n"
          ]
        }
      ]
    },
    {
      "cell_type": "code",
      "source": [
        "Y = bool_labels\n",
        "print(Y[:10],\"Length :\",len(Y))"
      ],
      "metadata": {
        "colab": {
          "base_uri": "https://localhost:8080/"
        },
        "id": "YYOrvX51sXFC",
        "outputId": "a2057d61-31c4-4768-ea0b-7ca0eaf2ae2f"
      },
      "execution_count": null,
      "outputs": [
        {
          "output_type": "stream",
          "name": "stdout",
          "text": [
            "[array([ True, False]), array([ True, False]), array([ True, False]), array([ True, False]), array([ True, False]), array([ True, False]), array([ True, False]), array([ True, False]), array([ True, False]), array([ True, False])] Length : 47800\n"
          ]
        }
      ]
    },
    {
      "cell_type": "code",
      "source": [
        "X_train,X_test,Y_train,Y_test = train_test_split(X[:NUM_IMAGES],Y[:NUM_IMAGES],test_size=0.2,random_state=8) # Good For Expirimenting Faster Results\n",
        "print(f'Xtrain length ={len(X_train)} ,Ytrain length ={len(Y_train)} ,Xtest length ={len(X_test)} ,Ytest length ={len(Y_test)}')"
      ],
      "metadata": {
        "colab": {
          "base_uri": "https://localhost:8080/"
        },
        "id": "TjcNazWWo-5A",
        "outputId": "11692fc1-a1df-4fcd-bd0e-841b7e13b72b"
      },
      "execution_count": null,
      "outputs": [
        {
          "output_type": "stream",
          "name": "stdout",
          "text": [
            "Xtrain length =800 ,Ytrain length =800 ,Xtest length =200 ,Ytest length =200\n"
          ]
        }
      ]
    },
    {
      "cell_type": "markdown",
      "source": [
        "## Preprocessing images : Turning Images to tensors\n",
        "\n",
        "Preprocess our images into tensors we are going to write a function so it can be reused\n",
        "\n",
        "1. Take a image filepath as inputs\n",
        "2. Use tensorflow to read file and save it to variable `image`\n",
        "3. Turn `image` into tensors (jpg)\n",
        "4. Resize the image to shape (224,224)\n",
        "5. Return the modified image\n",
        "\n",
        "\n"
      ],
      "metadata": {
        "id": "Nm-6LE5OwrZK"
      }
    },
    {
      "cell_type": "markdown",
      "source": [
        "***************************************************************************\n"
      ],
      "metadata": {
        "id": "bmFyVqzlYq8n"
      }
    },
    {
      "cell_type": "markdown",
      "source": [
        " Optional : before lets see how to conver images in numpy arrays and image analysis"
      ],
      "metadata": {
        "id": "U53klVoiV2Up"
      }
    },
    {
      "cell_type": "code",
      "source": [
        "image = imread(X[4]) # Converts img to nupy array\n",
        "print(image.shape) # Aspect ratio with colur lane\n",
        "print(f'Minimum and Maximum value of a pixel ({image.max()},{image.min()})')"
      ],
      "metadata": {
        "colab": {
          "base_uri": "https://localhost:8080/"
        },
        "id": "EpZZSQwOy00l",
        "outputId": "3849c9a6-24a8-4e46-e687-ecd5ba18e46c"
      },
      "execution_count": null,
      "outputs": [
        {
          "output_type": "stream",
          "name": "stdout",
          "text": [
            "(32, 32, 3)\n",
            "Minimum and Maximum value of a pixel (255,0)\n"
          ]
        }
      ]
    },
    {
      "cell_type": "code",
      "source": [
        "# Converting array to tensor for faster computation\n",
        "tf.constant(image)[:1]"
      ],
      "metadata": {
        "colab": {
          "base_uri": "https://localhost:8080/"
        },
        "id": "iRa28KnNWriy",
        "outputId": "746b2722-1c82-4880-cd97-c4f12aa61f7e"
      },
      "execution_count": null,
      "outputs": [
        {
          "output_type": "execute_result",
          "data": {
            "text/plain": [
              "<tf.Tensor: shape=(1, 32, 3), dtype=uint8, numpy=\n",
              "array([[[ 74,  58,   6],\n",
              "        [ 75,  58,   6],\n",
              "        [ 77,  57,   7],\n",
              "        [ 80,  56,   8],\n",
              "        [ 82,  55,  10],\n",
              "        [ 86,  55,  11],\n",
              "        [ 88,  53,  13],\n",
              "        [ 90,  52,  13],\n",
              "        [ 94,  52,  14],\n",
              "        [ 90,  48,  10],\n",
              "        [ 91,  49,  11],\n",
              "        [ 97,  55,  17],\n",
              "        [ 98,  59,  20],\n",
              "        [ 95,  56,  17],\n",
              "        [ 92,  54,  15],\n",
              "        [ 91,  56,  16],\n",
              "        [ 89,  57,  19],\n",
              "        [ 88,  59,  19],\n",
              "        [ 91,  59,  20],\n",
              "        [ 93,  60,  17],\n",
              "        [ 94,  59,  17],\n",
              "        [ 97,  58,  15],\n",
              "        [ 99,  57,  17],\n",
              "        [ 99,  55,  18],\n",
              "        [100,  51,  18],\n",
              "        [100,  51,  19],\n",
              "        [103,  49,  23],\n",
              "        [103,  49,  23],\n",
              "        [104,  48,  23],\n",
              "        [104,  48,  23],\n",
              "        [104,  48,  21],\n",
              "        [104,  48,  21]]], dtype=uint8)>"
            ]
          },
          "metadata": {},
          "execution_count": 27
        }
      ]
    },
    {
      "cell_type": "markdown",
      "source": [
        "***************************************************************************"
      ],
      "metadata": {
        "id": "jQ0oyI4LYmCh"
      }
    },
    {
      "cell_type": "code",
      "source": [
        "IMG_SIZE = 224 # image size (224,224) is recomended\n"
      ],
      "metadata": {
        "id": "RCs8MpO0YAoP"
      },
      "execution_count": null,
      "outputs": []
    }
  ]
}
